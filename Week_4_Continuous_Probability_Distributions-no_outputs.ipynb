{
 "cells": [
  {
   "cell_type": "markdown",
   "metadata": {},
   "source": [
    "# Before your start:\n",
    "\n",
    "    Read the README.md file\n",
    "    Comment as much as you can and use the resources (README.md file)\n",
    "    Happy learning!"
   ]
  },
  {
   "cell_type": "markdown",
   "metadata": {},
   "source": [
    "In this exercise, we  will generate random numbers from the continuous disributions we learned in the lesson. There are two ways to generate random numbers:\n",
    "\n",
    "1. Using the numpy library \n",
    "1. using the Scipy library \n",
    "\n",
    "Use either or both of the lbraries in this exercise."
   ]
  },
  {
   "cell_type": "code",
   "execution_count": null,
   "metadata": {},
   "outputs": [],
   "source": [
    "import matplotlib.pyplot as plt\n",
    "import pandas as pd\n",
    "import numpy as np\n",
    "import math\n",
    "import seaborn as sns"
   ]
  },
  {
   "cell_type": "markdown",
   "metadata": {},
   "source": [
    "## Uniform Distribution\n",
    "\n",
    "To generate uniform random numbers between any two given values using scipy, we can either use the following code or the code that we have\n",
    "discussed in class:"
   ]
  },
  {
   "cell_type": "code",
   "execution_count": null,
   "metadata": {},
   "outputs": [],
   "source": [
    "import numpy as np\n",
    "import matplotlib.pyplot as plt\n",
    "import seaborn as sns\n",
    "\n",
    "# Generating random numbers from a uniform distribution using numpy\n",
    "a, b = 0, 10  # Lower and upper bounds\n",
    "uniform_random_numbers = np.random.uniform(a, b, 1000)  # Generate 1000 random numbers\n",
    "\n",
    "# Plotting the distribution\n",
    "sns.histplot(uniform_random_numbers, bins=20, kde=False, color='blue', edgecolor='black')\n",
    "plt.title('Uniform Distribution (a=0, b=10)')\n",
    "plt.xlabel('Value')\n",
    "plt.ylabel('Frequency')\n",
    "plt.show()\n"
   ]
  },
  {
   "cell_type": "markdown",
   "metadata": {},
   "source": [
    "**Your task:**\n",
    "\n",
    "1. Based on the code above, write a function that generates uniformly distributed random numbers. There are several requirements for your function:\n",
    "    * It should accept 3 parameters: \n",
    "        * `bottom` - the lower boundary of the generated numbers\n",
    "        * `ceiling` - the upper boundary of the generated numbers\n",
    "        * `count` - how many numbers to generate\n",
    "    * It should return an array of uniformly distributed random numbers\n",
    "\n",
    "1. Call your function with 2 sets of params below:\n",
    "    * bottom=10, ceiling=15, count=100\n",
    "    * bottom=10, ceiling=60, count=1,000\n",
    "\n",
    "1. Plot the uniform distributions generated above using histograms, where x axis is the value and y axis is the count. Let the histogram's number of bins be 10.\n",
    "\n",
    "Your output should look like below:\n",
    "\n",
    "![uniform distribution](ud.png)"
   ]
  },
  {
   "cell_type": "code",
   "execution_count": null,
   "metadata": {},
   "outputs": [],
   "source": [
    "import numpy as np\n",
    "\n",
    "def generate_uniform_random_numbers(bottom, ceiling, count):\n",
    "    \"\"\"\n",
    "    Generate uniformly distributed random numbers.\n",
    "    \n",
    "    Parameters:\n",
    "        bottom (float): Lower boundary of the range.\n",
    "        ceiling (float): Upper boundary of the range.\n",
    "        count (int): Number of random numbers to generate.\n",
    "    \n",
    "    Returns:\n",
    "        numpy.ndarray: Array of uniformly distributed random numbers.\n",
    "    \"\"\"\n",
    "    return np.random.uniform(bottom, ceiling, count)\n"
   ]
  },
  {
   "cell_type": "code",
   "execution_count": null,
   "metadata": {},
   "outputs": [],
   "source": [
    "# Generate random numbers for two parameter sets\n",
    "data1 = generate_uniform_random_numbers(bottom=10, ceiling=15, count=100)\n",
    "data2 = generate_uniform_random_numbers(bottom=10, ceiling=60, count=1000)\n"
   ]
  },
  {
   "cell_type": "code",
   "execution_count": null,
   "metadata": {},
   "outputs": [],
   "source": [
    "import matplotlib.pyplot as plt\n",
    "import seaborn as sns\n",
    "\n",
    "# Plot the distributions\n",
    "plt.figure(figsize=(12, 5))\n",
    "\n",
    "# Plot for first parameter set\n",
    "plt.subplot(1, 2, 1)\n",
    "sns.histplot(data1, bins=10, kde=False, color='blue', edgecolor='black')\n",
    "plt.title('Uniform Distribution (10, 15, 100)')\n",
    "plt.xlabel('Value')\n",
    "plt.ylabel('Frequency')\n",
    "\n",
    "# Plot for second parameter set\n",
    "plt.subplot(1, 2, 2)\n",
    "sns.histplot(data2, bins=10, kde=False, color='green', edgecolor='black')\n",
    "plt.title('Uniform Distribution (10, 60, 1000)')\n",
    "plt.xlabel('Value')\n",
    "plt.ylabel('Frequency')\n",
    "\n",
    "# Show plots\n",
    "plt.tight_layout()\n",
    "plt.show()\n"
   ]
  },
  {
   "cell_type": "markdown",
   "metadata": {},
   "source": [
    "How are the two distributions different?"
   ]
  },
  {
   "cell_type": "markdown",
   "metadata": {},
   "source": [
    "The first distribution (10, 15, 100) is more concentrated over a smaller range, resulting in fewer bins and lower overall variation in the values. The second distribution (10, 60, 1000) is spread over a wider range, leading to greater variation and higher frequencies due to the larger sample size."
   ]
  },
  {
   "cell_type": "markdown",
   "metadata": {},
   "source": [
    "## Normal Distribution\n",
    "\n",
    "1. In the same way in the Uniform Distribution challenge, write a function that generates normally distributed random numbers.\n",
    "1. Generate 1,000 normally distributed numbers with the average of 10 and standard deviation of 1\n",
    "1. Generate 1,000 normally distributed numbers with the average of 10 and standard deviation of 50\n",
    "2. Plot the distributions of the data generated.\n",
    "\n",
    "Expected output:\n",
    "\n",
    "![normal distribution](nd.png)"
   ]
  },
  {
   "cell_type": "code",
   "execution_count": null,
   "metadata": {},
   "outputs": [],
   "source": [
    "from scipy.stats import norm "
   ]
  },
  {
   "cell_type": "code",
   "execution_count": null,
   "metadata": {},
   "outputs": [],
   "source": [
    "import numpy as np\n",
    "\n",
    "def generate_normal_random_numbers(mean, std_dev, count):\n",
    "    \"\"\"\n",
    "    Generate normally distributed random numbers.\n",
    "    \n",
    "    Parameters:\n",
    "        mean (float): Mean of the normal distribution.\n",
    "        std_dev (float): Standard deviation of the normal distribution.\n",
    "        count (int): Number of random numbers to generate.\n",
    "    \n",
    "    Returns:\n",
    "        numpy.ndarray: Array of normally distributed random numbers.\n",
    "    \"\"\"\n",
    "    return np.random.normal(mean, std_dev, count)\n"
   ]
  },
  {
   "cell_type": "code",
   "execution_count": null,
   "metadata": {},
   "outputs": [],
   "source": [
    "# Generate 1,000 random numbers with different parameters\n",
    "data1 = generate_normal_random_numbers(mean=10, std_dev=1, count=1000)\n",
    "data2 = generate_normal_random_numbers(mean=10, std_dev=50, count=1000)\n"
   ]
  },
  {
   "cell_type": "code",
   "execution_count": null,
   "metadata": {},
   "outputs": [],
   "source": [
    "import matplotlib.pyplot as plt\n",
    "import seaborn as sns\n",
    "\n",
    "# Plot the distributions\n",
    "plt.figure(figsize=(12, 5))\n",
    "\n",
    "# Plot for the first dataset\n",
    "plt.subplot(1, 2, 1)\n",
    "sns.histplot(data1, bins=20, kde=True, color='blue', edgecolor='black')\n",
    "plt.title('Normal Distribution (Mean=10, StdDev=1)')\n",
    "plt.xlabel('Value')\n",
    "plt.ylabel('Frequency')\n",
    "\n",
    "# Plot for the second dataset\n",
    "plt.subplot(1, 2, 2)\n",
    "sns.histplot(data2, bins=20, kde=True, color='green', edgecolor='black')\n",
    "plt.title('Normal Distribution (Mean=10, StdDev=50)')\n",
    "plt.xlabel('Value')\n",
    "plt.ylabel('Frequency')\n",
    "\n",
    "# Show the plots\n",
    "plt.tight_layout()\n",
    "plt.show()\n"
   ]
  },
  {
   "cell_type": "markdown",
   "metadata": {},
   "source": [
    "How are the two distributions different?"
   ]
  },
  {
   "cell_type": "raw",
   "metadata": {
    "vscode": {
     "languageId": "raw"
    }
   },
   "source": [
    "1. First Distribution (Mean=10, StdDev=1):\n",
    "- It is narrower and concentrated around the mean (10) due to a small standard deviation.\n",
    "- The values are tightly clustered, resulting in a sharp peak.\n",
    "\n",
    "2. Second Distribution (Mean=10, StdDev=50):\n",
    "- It is much wider because of a larger standard deviation.\n",
    "- The values are more spread out, showing a flatter curve and covering a broader range of values."
   ]
  },
  {
   "cell_type": "markdown",
   "metadata": {},
   "source": [
    "## Normal Distribution of Real Data\n",
    "\n",
    "In this challenge we are going to take a look the real data. We will use vehicles.csv file for this exercise"
   ]
  },
  {
   "cell_type": "code",
   "execution_count": null,
   "metadata": {},
   "outputs": [],
   "source": [
    "import pandas as pd\n",
    "import matplotlib.pyplot as plt\n",
    "import seaborn as sns\n",
    "\n",
    "# Load the dataset\n",
    "data = pd.read_csv(r'C:\\Users\\harid\\Downloads\\vehicles.csv')"
   ]
  },
  {
   "cell_type": "markdown",
   "metadata": {},
   "source": [
    "First import vehicles.csv.\n",
    "Then plot the histograms for the following variables:\n",
    "\n",
    "1. Fuel Barrels/Year"
   ]
  },
  {
   "cell_type": "code",
   "execution_count": null,
   "metadata": {},
   "outputs": [],
   "source": [
    "# Plot histogram\n",
    "sns.histplot(data['Fuel Barrels/Year'], bins=20, kde=True, color='blue', edgecolor='black')\n",
    "plt.title('Fuel Barrels/Year Distribution')\n",
    "plt.xlabel('Fuel Barrels/Year')\n",
    "plt.ylabel('Frequency')\n",
    "plt.show()\n"
   ]
  },
  {
   "cell_type": "markdown",
   "metadata": {},
   "source": [
    "2. CO2 Emission Grams/Mile "
   ]
  },
  {
   "cell_type": "code",
   "execution_count": null,
   "metadata": {},
   "outputs": [],
   "source": [
    "# Plot histogram\n",
    "sns.histplot(data['CO2 Emission Grams/Mile'], bins=20, kde=True, color='green', edgecolor='black')\n",
    "plt.title('CO2 Emission Grams/Mile Distribution')\n",
    "plt.xlabel('CO2 Emission Grams/Mile')\n",
    "plt.ylabel('Frequency')\n",
    "plt.show()\n"
   ]
  },
  {
   "cell_type": "markdown",
   "metadata": {},
   "source": [
    "3. Combined MPG"
   ]
  },
  {
   "cell_type": "code",
   "execution_count": null,
   "metadata": {},
   "outputs": [],
   "source": [
    "# Plot histogram\n",
    "sns.histplot(data['Combined MPG'], bins=20, kde=True, color='red', edgecolor='black')\n",
    "plt.title('Combined MPG Distribution')\n",
    "plt.xlabel('Combined MPG')\n",
    "plt.ylabel('Frequency')\n",
    "plt.show()\n"
   ]
  },
  {
   "cell_type": "markdown",
   "metadata": {},
   "source": [
    "Which one(s) of the variables are nearly normally distributed? How do you know?"
   ]
  },
  {
   "cell_type": "code",
   "execution_count": null,
   "metadata": {},
   "outputs": [],
   "source": [
    "import matplotlib.pyplot as plt\n",
    "import seaborn as sns\n",
    "import scipy.stats as stats\n",
    "\n",
    "# Variables to check\n",
    "variables = ['Fuel Barrels/Year', 'CO2 Emission Grams/Mile', 'Combined MPG']\n",
    "\n",
    "# Plot histograms with KDE\n",
    "for var in variables:\n",
    "    sns.histplot(data[var], bins=20, kde=True, color='blue', edgecolor='black')\n",
    "    plt.title(f'{var} Distribution')\n",
    "    plt.xlabel(var)\n",
    "    plt.ylabel('Frequency')\n",
    "    plt.show()\n"
   ]
  },
  {
   "cell_type": "code",
   "execution_count": null,
   "metadata": {},
   "outputs": [],
   "source": [
    "# Anderson-Darling Test for normality\n",
    "for var in variables:\n",
    "    result = stats.anderson(data[var], dist='norm')\n",
    "    print(f'{var}: Test Statistic={result.statistic}')\n",
    "    for i, cv in enumerate(result.critical_values):\n",
    "        if result.statistic < cv:\n",
    "            print(f'{var} is nearly normally distributed (significance level {result.significance_level[i]}%)')\n",
    "        else:\n",
    "            print(f'{var} is NOT normally distributed (significance level {result.significance_level[i]}%)')\n"
   ]
  },
  {
   "cell_type": "markdown",
   "metadata": {},
   "source": [
    "None of them are normally ditributed. "
   ]
  },
  {
   "cell_type": "markdown",
   "metadata": {},
   "source": [
    "## Exponential Distribution"
   ]
  },
  {
   "cell_type": "markdown",
   "metadata": {},
   "source": [
    "1. Using `numpy.random.exponential`, create a function that returns a list of numbers exponentially distributed with the mean of 10. \n",
    "\n",
    "1. Use the function to generate two number sequences with the size of 10 and 100.\n",
    "\n",
    "1. Plot the distributions as histograms with the nubmer of bins as 100.\n",
    "\n",
    "Your output should look like below:\n",
    "\n",
    "![exponential distribution](ed.png)"
   ]
  },
  {
   "cell_type": "code",
   "execution_count": null,
   "metadata": {},
   "outputs": [],
   "source": [
    "import numpy as np\n",
    "\n",
    "def generate_exponential_random_numbers(mean, size):\n",
    "    \"\"\"\n",
    "    Generate a list of numbers exponentially distributed with a given mean.\n",
    "    \n",
    "    Parameters:\n",
    "        mean (float): Mean of the exponential distribution.\n",
    "        size (int): Number of random numbers to generate.\n",
    "    \n",
    "    Returns:\n",
    "        numpy.ndarray: Array of exponentially distributed random numbers.\n",
    "    \"\"\"\n",
    "    return np.random.exponential(scale=mean, size=size)\n"
   ]
  },
  {
   "cell_type": "code",
   "execution_count": null,
   "metadata": {},
   "outputs": [],
   "source": [
    "# Generate two sequences with mean=10 and sizes 10 and 100\n",
    "data1 = generate_exponential_random_numbers(mean=10, size=10)\n",
    "data2 = generate_exponential_random_numbers(mean=10, size=100)\n"
   ]
  },
  {
   "cell_type": "code",
   "execution_count": null,
   "metadata": {},
   "outputs": [],
   "source": [
    "import matplotlib.pyplot as plt\n",
    "\n",
    "# Plot the distributions\n",
    "plt.figure(figsize=(12, 5))\n",
    "\n",
    "# Plot for the first sequence\n",
    "plt.subplot(1, 2, 1)\n",
    "plt.hist(data1, bins=100, color='blue', edgecolor='black')\n",
    "plt.title('Exponential Distribution (Size=10, Mean=10)')\n",
    "plt.xlabel('Value')\n",
    "plt.ylabel('Frequency')\n",
    "\n",
    "# Plot for the second sequence\n",
    "plt.subplot(1, 2, 2)\n",
    "plt.hist(data2, bins=100, color='green', edgecolor='black')\n",
    "plt.title('Exponential Distribution (Size=100, Mean=10)')\n",
    "plt.xlabel('Value')\n",
    "plt.ylabel('Frequency')\n",
    "\n",
    "# Show the plots\n",
    "plt.tight_layout()\n",
    "plt.show()\n"
   ]
  },
  {
   "cell_type": "markdown",
   "metadata": {},
   "source": [
    "How are the two distributions different?"
   ]
  },
  {
   "cell_type": "raw",
   "metadata": {},
   "source": [
    "1. Sample Size:\n",
    "-The first distribution (size=10) has fewer samples, leading to a less smooth and less representative histogram.\n",
    "-The second distribution (size=100) is smoother and more closely matches the theoretical exponential shape due to the larger sample size.\n",
    "\n",
    "2. Shape:\n",
    "-Both distributions have the same mean, but the smaller sample size in the first distribution causes more variability in the appearance of the histogram."
   ]
  },
  {
   "cell_type": "markdown",
   "metadata": {},
   "source": [
    "The mean changes, so the distribution changes as well. "
   ]
  },
  {
   "cell_type": "markdown",
   "metadata": {},
   "source": [
    "## Exponential Distribution of Real Data\n",
    "\n",
    "Suppose that the amount of time one spends in a bank is exponentially distributed with mean as 10 minutes (i.e. λ = 1/10). What is the probability that a customer will spend less than fifteen minutes in the bank? \n",
    "\n",
    "Write a code in python to solve this problem"
   ]
  },
  {
   "cell_type": "code",
   "execution_count": null,
   "metadata": {},
   "outputs": [],
   "source": [
    "import math\n",
    "\n",
    "# Parameters\n",
    "mean = 10  # Mean of the distribution\n",
    "rate = 1 / mean  # Lambda (rate parameter)\n",
    "x = 15  # Time in minutes\n",
    "\n",
    "# Probability P(X < 15)\n",
    "prob_less_than_15 = 1 - math.exp(-rate * x)\n",
    "prob_less_than_15\n"
   ]
  },
  {
   "cell_type": "markdown",
   "metadata": {},
   "source": [
    "What is the probability that the customer will spend more than 15 minutes"
   ]
  },
  {
   "cell_type": "code",
   "execution_count": null,
   "metadata": {},
   "outputs": [],
   "source": [
    "# Probability P(X > 15)\n",
    "prob_more_than_15 = math.exp(-rate * x)\n",
    "prob_more_than_15\n"
   ]
  },
  {
   "cell_type": "code",
   "execution_count": null,
   "metadata": {},
   "outputs": [],
   "source": []
  }
 ],
 "metadata": {
  "kernelspec": {
   "display_name": "Python 3 (ipykernel)",
   "language": "python",
   "name": "python3"
  },
  "language_info": {
   "codemirror_mode": {
    "name": "ipython",
    "version": 3
   },
   "file_extension": ".py",
   "mimetype": "text/x-python",
   "name": "python",
   "nbconvert_exporter": "python",
   "pygments_lexer": "ipython3",
   "version": "3.12.7"
  }
 },
 "nbformat": 4,
 "nbformat_minor": 4
}
